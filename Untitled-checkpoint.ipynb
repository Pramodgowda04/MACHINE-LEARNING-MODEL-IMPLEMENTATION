{
 "cells": [
  {
   "cell_type": "code",
   "execution_count": null,
   "id": "3e888164-b4c8-49b1-8748-eeaa8d280f61",
   "metadata": {},
   "outputs": [],
   "source": []
  }
 ],
 "metadata": {
  "kernelspec": {
   "display_name": "Python [conda env:base] *",
   "language": "python",
   "name": "conda-base-py"
  },
  "language_info": {
   "name": ""
  }
 },
 "nbformat": 4,
 "nbformat_minor": 5
}
