# Import necessary libraries
import pandas as pd
from sklearn.model_selection import train_test_split
from sklearn.feature_extraction.text import CountVectorizer
from sklearn.naive_bayes import MultinomialNB
from sklearn.metrics import accuracy_score, classification_report, confusion_matrix

# Sample dataset (replace with your own or load from file)
data = pd.DataFrame({
    'text': [
        'Win a free iPhone now', 'Hello, how are you?', 'Free tickets to the concert',
        'Hi friend, let us catch up soon', 'Congratulations, you won a lottery',
        'Are you coming to the meeting?', 'Claim your free prize money',
        'Hey, long time no see', 'Earn money from home easily',
        'Let us meet for lunch tomorrow', 'Exclusive offer just for you',
        'Can you send me the report?', 'This is not spam, just a reminder',
        'Free access to online courses', 'Happy birthday! Have a great day',
        'Get cheap loans instantly', 'When is your birthday?', 'You have been selected for a prize',
        'Let us schedule a call', 'Update your account details now',
        'What time is the event?', 'Lowest prices for your favorite products',
        'Are you available this weekend?', 'Congratulations, claim your discount',
        'Did you finish the assignment?', 'Urgent! Your account will be locked',
        'Looking forward to our meeting', 'Winner! Redeem your gift card now',
        'How was your vacation?', 'Free membership trial for one month',
        'Please review the attached document', 'Earn cash working from your phone',
        'Can we reschedule our meeting?', 'Special promotion only for today',
        'Thank you for your support', 'Activate your bonus points now',
        'Looking forward to your reply', 'Get rich quick schemes are scams',
        'This is your invoice for last month', 'Limited time offer on electronics',
        'How is the weather today?', 'Congratulations on your promotion',
        'You won a free cruise vacation', 'Are you coming to the party tonight?',
        'Exclusive deal just for you', 'Don’t miss out on these savings',
        'Meeting agenda for tomorrow', 'Make money from home with no investment',
        'Have a nice day!', 'Your subscription has been renewed'
        ],
    'label': [1,0,1,0,1,0,1,0,1,0,1,0,0,1,0,1,0,1,0,1,0,1,0,1,0,1,0,1,0,1,0,1,0,1,0,1,0,1,0,0,1,0,1,1,0,1,0,0,0,0]
})


# Split data into features and labels
X = data['text']
y = data['label']

# Split dataset into train and test parts
X_train, X_test, y_train, y_test = train_test_split(X, y, test_size=0.25, random_state=42)

# Convert text to features using CountVectorizer
vectorizer = CountVectorizer()
X_train_vec = vectorizer.fit_transform(X_train)
X_test_vec = vectorizer.transform(X_test)

# Train Naive Bayes classifier
model = MultinomialNB()
model.fit(X_train_vec, y_train)

# Make predictions on test set
y_pred = model.predict(X_test_vec)

# Evaluate model performance
print("Accuracy:", accuracy_score(y_test, y_pred))
print("\nClassification Report:\n", classification_report(y_test, y_pred))
print("\nConfusion Matrix:\n", confusion_matrix(y_test, y_pred))
