{
 "cells": [
  {
   "cell_type": "code",
   "execution_count": 1,
   "id": "3e888164-b4c8-49b1-8748-eeaa8d280f61",
   "metadata": {},
   "outputs": [
    {
     "name": "stdout",
     "output_type": "stream",
     "text": [
      "Accuracy: 0.6923076923076923\n",
      "\n",
      "Classification Report:\n",
      "               precision    recall  f1-score   support\n",
      "\n",
      "           0       0.60      1.00      0.75         6\n",
      "           1       1.00      0.43      0.60         7\n",
      "\n",
      "    accuracy                           0.69        13\n",
      "   macro avg       0.80      0.71      0.68        13\n",
      "weighted avg       0.82      0.69      0.67        13\n",
      "\n",
      "\n",
      "Confusion Matrix:\n",
      " [[6 0]\n",
      " [4 3]]\n"
     ]
    }
   ],
   "source": [
    "# Import necessary libraries\n",
    "import pandas as pd\n",
    "from sklearn.model_selection import train_test_split\n",
    "from sklearn.feature_extraction.text import CountVectorizer\n",
    "from sklearn.naive_bayes import MultinomialNB\n",
    "from sklearn.metrics import accuracy_score, classification_report, confusion_matrix\n",
    "\n",
    "# Sample dataset (replace with your own or load from file)\n",
    "data = pd.DataFrame({\n",
    "    'text': [\n",
    "        'Win a free iPhone now', 'Hello, how are you?', 'Free tickets to the concert',\n",
    "        'Hi friend, let us catch up soon', 'Congratulations, you won a lottery',\n",
    "        'Are you coming to the meeting?', 'Claim your free prize money',\n",
    "        'Hey, long time no see', 'Earn money from home easily',\n",
    "        'Let us meet for lunch tomorrow', 'Exclusive offer just for you',\n",
    "        'Can you send me the report?', 'This is not spam, just a reminder',\n",
    "        'Free access to online courses', 'Happy birthday! Have a great day',\n",
    "        'Get cheap loans instantly', 'When is your birthday?', 'You have been selected for a prize',\n",
    "        'Let us schedule a call', 'Update your account details now',\n",
    "        'What time is the event?', 'Lowest prices for your favorite products',\n",
    "        'Are you available this weekend?', 'Congratulations, claim your discount',\n",
    "        'Did you finish the assignment?', 'Urgent! Your account will be locked',\n",
    "        'Looking forward to our meeting', 'Winner! Redeem your gift card now',\n",
    "        'How was your vacation?', 'Free membership trial for one month',\n",
    "        'Please review the attached document', 'Earn cash working from your phone',\n",
    "        'Can we reschedule our meeting?', 'Special promotion only for today',\n",
    "        'Thank you for your support', 'Activate your bonus points now',\n",
    "        'Looking forward to your reply', 'Get rich quick schemes are scams',\n",
    "        'This is your invoice for last month', 'Limited time offer on electronics',\n",
    "        'How is the weather today?', 'Congratulations on your promotion',\n",
    "        'You won a free cruise vacation', 'Are you coming to the party tonight?',\n",
    "        'Exclusive deal just for you', 'Don’t miss out on these savings',\n",
    "        'Meeting agenda for tomorrow', 'Make money from home with no investment',\n",
    "        'Have a nice day!', 'Your subscription has been renewed'\n",
    "        ],\n",
    "    'label': [1,0,1,0,1,0,1,0,1,0,1,0,0,1,0,1,0,1,0,1,0,1,0,1,0,1,0,1,0,1,0,1,0,1,0,1,0,1,0,0,1,0,1,1,0,1,0,0,0,0]\n",
    "})\n",
    "\n",
    "\n",
    "# Split data into features and labels\n",
    "X = data['text']\n",
    "y = data['label']\n",
    "\n",
    "# Split dataset into train and test parts\n",
    "X_train, X_test, y_train, y_test = train_test_split(X, y, test_size=0.25, random_state=42)\n",
    "\n",
    "# Convert text to features using CountVectorizer\n",
    "vectorizer = CountVectorizer()\n",
    "X_train_vec = vectorizer.fit_transform(X_train)\n",
    "X_test_vec = vectorizer.transform(X_test)\n",
    "\n",
    "# Train Naive Bayes classifier\n",
    "model = MultinomialNB()\n",
    "model.fit(X_train_vec, y_train)\n",
    "\n",
    "# Make predictions on test set\n",
    "y_pred = model.predict(X_test_vec)\n",
    "\n",
    "# Evaluate model performance\n",
    "print(\"Accuracy:\", accuracy_score(y_test, y_pred))\n",
    "print(\"\\nClassification Report:\\n\", classification_report(y_test, y_pred))\n",
    "print(\"\\nConfusion Matrix:\\n\", confusion_matrix(y_test, y_pred))\n"
   ]
  }
 ],
 "metadata": {
  "kernelspec": {
   "display_name": "Python 3",
   "language": "python",
   "name": "python3"
  },
  "language_info": {
   "codemirror_mode": {
    "name": "ipython",
    "version": 3
   },
   "file_extension": ".py",
   "mimetype": "text/x-python",
   "name": "python",
   "nbconvert_exporter": "python",
   "pygments_lexer": "ipython3",
   "version": "3.13.3"
  }
 },
 "nbformat": 4,
 "nbformat_minor": 5
}
